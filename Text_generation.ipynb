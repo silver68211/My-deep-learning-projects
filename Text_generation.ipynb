{
  "nbformat": 4,
  "nbformat_minor": 0,
  "metadata": {
    "colab": {
      "provenance": [],
      "include_colab_link": true
    },
    "kernelspec": {
      "name": "python3",
      "display_name": "Python 3"
    },
    "language_info": {
      "name": "python"
    },
    "accelerator": "GPU"
  },
  "cells": [
    {
      "cell_type": "markdown",
      "metadata": {
        "id": "view-in-github",
        "colab_type": "text"
      },
      "source": [
        "<a href=\"https://colab.research.google.com/github/silver68211/My-deep-learning-project/blob/master/Text_generation.ipynb\" target=\"_parent\"><img src=\"https://colab.research.google.com/assets/colab-badge.svg\" alt=\"Open In Colab\"/></a>"
      ]
    },
    {
      "cell_type": "markdown",
      "metadata": {
        "id": "9_vESz9U2zoH"
      },
      "source": [
        "# Part2: Text generation\n",
        "\n",
        "In order to answer this part of the assignment, we will use **Word Level Text Generation**. In this case, each of the input and output tokens is a word. Moreover, Language Model outputs a probability distribution over vocabulary.\n",
        "\n",
        "\n",
        "<img src=\"https://s18.picofile.com/file/8432180226/download.png\" alt=\"Word Level Text Generation\" style=\"width:100px;height:100px;\">\n",
        "\n",
        "\n",
        "\n",
        "*   In training, we supply a sequence of words as input ($X$) and a target word (next word to complete the input) as output ($Y$).\n",
        "*   After training, the Language Model learns to generate **a conditional probability distribution** over the **vocabulary** of words according to the **given  input sequence**.\n",
        "\n",
        "To generate text, we can iterate over the below steps:\n",
        "\n",
        "<ul>\n",
        "    <li><b>Step 1:</b>we provide a sequence of words to the Language Model as input.\n",
        "    </li>\n",
        "    <li><b>Step 2:</b>\n",
        "        the Language Model outputs a conditional probability distribution over the vocabulary.\n",
        "        </li>\n",
        "         <li><b>Step 3:</b>\n",
        "        we sample a word from the distribution.\n",
        "        </li>\n",
        "        <li><b>Step 4:</b>\n",
        "         we concatenate the newly sampled word to the generated text\n",
        "        </li>\n",
        "        <li><b>Step 5:</b>\n",
        "         a new input sequence is genareted by appending the newly sampled word\n",
        "        </li>\n",
        "</ul>\n",
        "\n",
        "\n",
        "<img src=\"https://s18.picofile.com/file/8432182150/download.gif\" alt=\"Word Level Text Generation\" style=\"width:100px;height:100px;\">\n",
        "\n",
        "\n",
        "\n",
        "\n"
      ]
    },
    {
      "cell_type": "code",
      "metadata": {
        "id": "OGmrc4Kq2bQU"
      },
      "source": [
        "try:\n",
        "    #print tensorflew version only exists in colab\n",
        "    %tensorflow_version 2.x\n",
        "\n",
        "except Exception:\n",
        "    print('Does not exist tensorflow version 2 or exists an older version')\n"
      ],
      "execution_count": null,
      "outputs": []
    },
    {
      "cell_type": "code",
      "metadata": {
        "colab": {
          "base_uri": "https://localhost:8080/"
        },
        "id": "k_SOtQ6T68X_",
        "outputId": "631d842c-1c9e-476c-e271-7785263985de"
      },
      "source": [
        "from google.colab import drive\n",
        "drive.mount('/content/drive/')"
      ],
      "execution_count": null,
      "outputs": [
        {
          "output_type": "stream",
          "text": [
            "Mounted at /content/drive/\n"
          ],
          "name": "stdout"
        }
      ]
    },
    {
      "cell_type": "code",
      "metadata": {
        "id": "zZiv8zgF7HLO",
        "colab": {
          "base_uri": "https://localhost:8080/"
        },
        "outputId": "e6e0bbcd-536a-48ea-b2bd-36874cfb5172"
      },
      "source": [
        "SavDir = '/content/drive/MyDrive/HW2/'\n",
        "%cd /content/drive/MyDrive/'HW2'/\n",
        "%ls"
      ],
      "execution_count": null,
      "outputs": [
        {
          "output_type": "stream",
          "text": [
            "/content/drive/MyDrive/HW2\n",
            "poetry.txt  Stopwords.txt  TG_LSTM.png\n"
          ],
          "name": "stdout"
        }
      ]
    },
    {
      "cell_type": "code",
      "metadata": {
        "id": "hB1XTnwy7cy-"
      },
      "source": [
        "# Import Libraries\n",
        "\n",
        "import tensorflow as tf\n",
        "from tensorflow.keras.models import Model, load_model\n",
        "from tensorflow.keras.layers import Input, Dense, Dropout, Lambda, Flatten, LSTM\n",
        "from tensorflow.keras.layers import BatchNormalization,Activation, Embedding\n",
        "from tensorflow.keras.callbacks import ModelCheckpoint, CallbackList\n",
        "from tensorflow.keras.optimizers import RMSprop, SGD, Adam\n",
        "from tensorflow.python.keras.utils.vis_utils import plot_model\n",
        "from keras import backend as k\n",
        "from tensorflow import  keras\n",
        "from tensorflow.keras.layers.experimental.preprocessing import TextVectorization\n",
        "from sklearn.model_selection import KFold\n",
        "\n",
        "\n",
        "import matplotlib.pyplot as plt\n",
        "import numpy as np\n",
        "import pandas as pd\n",
        "import random\n",
        "import string\n",
        "import re\n",
        "import os"
      ],
      "execution_count": null,
      "outputs": []
    },
    {
      "cell_type": "markdown",
      "metadata": {
        "id": "90Tewinvdm3N"
      },
      "source": [
        "## Text preprocessing"
      ]
    },
    {
      "cell_type": "markdown",
      "metadata": {
        "id": "b_8-Az8x-h2O"
      },
      "source": [
        "Here, We are going to use the TensorFlow data pipeline in order to process the raw data. for more information about The TensorFlow data pipeline, you can check\n",
        "[the Tensorflow website](https://www.tensorflow.org/api_docs/python/tf/data/Dataset).\n",
        "Indeed, firstly, We will create a data pipeline to prepare training data for word-level text generator. Then, we will use prepared data to train a text generation language model using **LSTM**.\n",
        "\n",
        "Thus, in the pipeline, we will\n",
        "* **open** & **load** corpus (text file).\n",
        "* **convert** the text into sequence of words.\n",
        "* **generate** input ($X$) and output ($Y$) tuples as word sequences.\n",
        "* **remove** unwanted tokens such as punctuations, *HTML* tags, white spaces, etc.\n",
        "* **vectorize** the input ($X$) and output ($Y$) tuples.\n",
        "* **concatenate** input ($X$) and output ($Y$) into train data.\n",
        "* **cache, prefetch, and batch** the data pipeline for performance."
      ]
    },
    {
      "cell_type": "markdown",
      "metadata": {
        "id": "TyPAaqzZIHfj"
      },
      "source": [
        "### Open and load text file\n",
        "\n",
        "Here, to load the poetry data set line by line,we are going to use\n",
        "[*tf.data.TextLineDataset*](https://www.tensorflow.org/api_docs/python/tf/data/TextLineDataset) method."
      ]
    },
    {
      "cell_type": "code",
      "metadata": {
        "id": "ai_0Cn_BS0KP"
      },
      "source": [
        "def LoadDataSet():\n",
        "\n",
        "    try:\n",
        "        with open(SavDir+FileName) as file:\n",
        "            file.read()\n",
        "\n",
        "\n",
        "    except FileNotFoundError:\n",
        "\n",
        "        msg = 'The {} does not exist'.format(FileName)\n",
        "        print(msg)\n",
        "\n",
        "    else:\n",
        "\n",
        "        return tf.data.TextLineDataset([SavDir+FileName])"
      ],
      "execution_count": null,
      "outputs": []
    },
    {
      "cell_type": "code",
      "metadata": {
        "id": "LNZvKXIumKy2"
      },
      "source": [
        "#@title Load StopWords\n",
        "def LoadStopWords():\n",
        "\n",
        "    try:\n",
        "        with open(SavDir+StopFile) as file:\n",
        "            StopWords = file.read().replace('\\n', ' ')\n",
        "\n",
        "\n",
        "    except FileNotFoundError:\n",
        "\n",
        "        msg = 'The {} does not exist'.format(StopFile)\n",
        "        print(msg)\n",
        "    else:\n",
        "        return StopWords"
      ],
      "execution_count": null,
      "outputs": []
    },
    {
      "cell_type": "code",
      "metadata": {
        "id": "d_Y8lra1Yhbl",
        "colab": {
          "base_uri": "https://localhost:8080/"
        },
        "outputId": "1603fed1-0c2e-4ee0-ad75-b321c3e885f7"
      },
      "source": [
        "FileName='poetry.txt'\n",
        "StopFile='Stopwords.txt'\n",
        "StopWords = LoadStopWords()\n",
        "RawData=LoadDataSet()\n",
        "\n",
        "\n",
        "msg='This DataSet has  {} lines.'.format(len(list(RawData.take(-1))))\n",
        "print(msg)\n",
        "\n",
        "\n",
        "msg='Number of Stopwords are {}.'.format(len(StopWords))\n",
        "print(msg)"
      ],
      "execution_count": null,
      "outputs": [
        {
          "output_type": "stream",
          "text": [
            "This DataSet has  69064 lines.\n",
            "Number of Stopwords are 1698.\n"
          ],
          "name": "stdout"
        }
      ]
    },
    {
      "cell_type": "markdown",
      "metadata": {
        "id": "_N9B3lYcfMTc"
      },
      "source": [
        "#### Printing some lines of uploaded data."
      ]
    },
    {
      "cell_type": "code",
      "metadata": {
        "colab": {
          "base_uri": "https://localhost:8080/"
        },
        "id": "Vw0cPJhGeslV",
        "outputId": "d33bdf42-796d-4520-9c7d-037da10f06d7"
      },
      "source": [
        "def PrintLines(df, Num=2):\n",
        "\n",
        "    for elm in df.take(Num):\n",
        "        elm = elm.numpy()\n",
        "        print(elm.decode(\"utf-8\"))\n",
        "\n",
        "\n",
        "\n",
        "PrintLines(RawData,10)"
      ],
      "execution_count": null,
      "outputs": [
        {
          "output_type": "stream",
          "text": [
            "﻿\n",
            "اول دفتر به نام ایزد دانا\n",
            "صانع پروردگار حی توانا\n",
            "اکبر و اعظم خدای عالم و آدم\n",
            "صورت خوب آفرید و سیرت زیبا\n",
            "از در بخشندگی و بنده نوازی\n",
            "مرغ هوا را نصیب و ماهی دریا\n",
            "قسمت خود می‌خورند منعم و درویش\n",
            "روزی خود می‌برند پشه و عنقا\n",
            "حاجت موری به علم غیب بداند\n"
          ],
          "name": "stdout"
        }
      ]
    },
    {
      "cell_type": "markdown",
      "metadata": {
        "id": "qmKyPJt1FF6a"
      },
      "source": [
        "### Remove StopWords\n",
        "\n",
        "Before processing the text, we are going to remove Persian stop words. therefore, we will use the following auxiliary python function."
      ]
    },
    {
      "cell_type": "code",
      "metadata": {
        "id": "LedCAWHi5r8E"
      },
      "source": [
        "def remov_stopwords(x:tf.Tensor):\n",
        "    S=''\n",
        "    for Str in tf.strings.split(x).numpy():\n",
        "        if (Str.decode('utf-8') not in StopWords):\n",
        "            # x=tf.strings.regex_replace(x,Str.decode('utf-8'),'')\n",
        "            S +=' '+Str.decode('utf-8')\n",
        "\n",
        "\n",
        "\n",
        "    return tf.reshape(S,x.shape)"
      ],
      "execution_count": null,
      "outputs": []
    },
    {
      "cell_type": "code",
      "metadata": {
        "id": "PUg3ULHLEy-T"
      },
      "source": [
        "CData =RawData.map(lambda x: tf.py_function(remov_stopwords,inp=[x],Tout=tf.string))\n",
        "CData=CData.map(lambda x: tf.reshape(x,()))"
      ],
      "execution_count": null,
      "outputs": []
    },
    {
      "cell_type": "code",
      "metadata": {
        "colab": {
          "base_uri": "https://localhost:8080/"
        },
        "id": "kvDn31fW7SNW",
        "outputId": "20b73504-b95d-4898-f9d1-8fca0d59af27"
      },
      "source": [
        "PrintLines(CData,10)"
      ],
      "execution_count": null,
      "outputs": [
        {
          "output_type": "stream",
          "text": [
            " ﻿\n",
            " دفتر ایزد دانا\n",
            " صانع پروردگار حی توانا\n",
            " اکبر اعظم خدای عالم آدم\n",
            " خوب آفرید سیرت زیبا\n",
            " بخشندگی بنده نوازی\n",
            " مرغ هوا نصیب ماهی دریا\n",
            " قسمت می‌خورند منعم درویش\n",
            " روزی می‌برند پشه عنقا\n",
            " حاجت موری علم غیب بداند\n"
          ],
          "name": "stdout"
        }
      ]
    },
    {
      "cell_type": "markdown",
      "metadata": {
        "id": "xte0VzH8htjI"
      },
      "source": [
        "# Split test into words token\n",
        "\n",
        "\n",
        "In the next step, we will first split the lines of the DataSet into a set of vectors of strings using [*Tf.strings.split*](https://www.tensorflow.org/api_docs/python/tf/strings/split) method and then for futhur procesing, we will use [*Tf.data.Dataset.from_tensor_slices(x)*](https://www.tensorflow.org/api_docs/python/tf/data/Dataset#from_tensor_slices) and [*Tf.data.Dataset.from_tensor_slices*](https://www.tensorflow.org/api_docs/python/tf/data/Dataset#flat_map) to creat a dataset from each element of the DataSet."
      ]
    },
    {
      "cell_type": "code",
      "metadata": {
        "id": "fJ4NRdJ_iDuW"
      },
      "source": [
        "def DFlatten():\n",
        "\n",
        "\n",
        "    df= CData.map(lambda x: tf.strings.split(x))\n",
        "\n",
        "    ## show some sample after usinf tf.strings.split.\n",
        "    OSSp = [[elm.decode('utf-8') for elm in win.numpy()] for win in df.take(5)]\n",
        "    msg = 'the shape of DataSet after using tf.strings.split:\\n'\n",
        "    print(msg,'\\n',OSSp,'\\n')\n",
        "\n",
        "\n",
        "    #Flatten DataSet\n",
        "\n",
        "    df = df.flat_map(lambda x: tf.data.Dataset.from_tensor_slices(x))\n",
        "\n",
        "     ## show some sample after usinf from_tensor_slices and flat_map.\n",
        "    OSSp = [elm.numpy().decode('utf-8')  for elm in df.take(10)]\n",
        "    msg = 'the shape of DataSet after using from_tensor_slices and flat_map:\\n'\n",
        "    print(msg,'\\n',OSSp,'\\n')\n",
        "\n",
        "    return df"
      ],
      "execution_count": null,
      "outputs": []
    },
    {
      "cell_type": "code",
      "metadata": {
        "colab": {
          "base_uri": "https://localhost:8080/"
        },
        "id": "wfs3FpR4ngL0",
        "outputId": "11c8b442-73e1-4e0b-8713-b06b7af14279"
      },
      "source": [
        "FlatData=DFlatten()"
      ],
      "execution_count": null,
      "outputs": [
        {
          "output_type": "stream",
          "text": [
            "the shape of DataSet after using tf.strings.split:\n",
            " \n",
            " [['\\ufeff'], ['دفتر', 'ایزد', 'دانا'], ['صانع', 'پروردگار', 'حی', 'توانا'], ['اکبر', 'اعظم', 'خدای', 'عالم', 'آدم'], ['خوب', 'آفرید', 'سیرت', 'زیبا']] \n",
            "\n",
            "the shape of DataSet after using from_tensor_slices and flat_map:\n",
            " \n",
            " ['\\ufeff', 'دفتر', 'ایزد', 'دانا', 'صانع', 'پروردگار', 'حی', 'توانا', 'اکبر', 'اعظم'] \n",
            "\n"
          ],
          "name": "stdout"
        }
      ]
    },
    {
      "cell_type": "code",
      "metadata": {
        "colab": {
          "base_uri": "https://localhost:8080/"
        },
        "id": "75YATIpB1JnD",
        "outputId": "15f716b1-3ad9-4afa-9ab3-d45fc7a55b35"
      },
      "source": [
        "Num_dis_words=3837\n",
        "#len(set(FlatData.as_numpy_iterator()))\n",
        "#3837\n",
        "#3974\n",
        "# 3813\n",
        "\n",
        "msg= 'There are {} distinct words in the {} '.format(Num_dis_words,FileName)\n",
        "\n",
        "print(msg)"
      ],
      "execution_count": null,
      "outputs": [
        {
          "output_type": "stream",
          "text": [
            "There are 3837 distinct words in the poetry.txt \n"
          ],
          "name": "stdout"
        }
      ]
    },
    {
      "cell_type": "markdown",
      "metadata": {
        "id": "TB8qjEBDq09t"
      },
      "source": [
        "## Creat traning data and its lables\n",
        "\n",
        "as you know, in order to train the model, we need Inputs ($X$) and their labels ($Y$). Therefore, we will split the DataSet into two DataSets as follow:\n",
        "\n",
        "* The first dataset ($X$) is  the **input data** to the model which will hold fixed-size word sequences (*partial sentences*)\n",
        "* The second dataset ($Y$) is  the **output data** which has only  one-word samples (*next word*)\n",
        "\n",
        "To create these datasets ($X$ ***input sequence of words*** & $Y$ ***next word***), we can apply [tf.data.Dataset.window](https://www.tensorflow.org/api_docs/python/tf/data/Dataset#window) transformation. For employing Tf.data.Dataset.window, we first need to define the length of input sequences and then apply the window() transformation so that  each window  has ($input \\,\\,  sequence \\,\\, length +1$)  words ($|X|+|Y|$).\n",
        "\n",
        "after window operation, since each window is a kind of dataset (**_VariantDataset**),  we can't use them in calculations because we normally expect tensors to be an element of the dataset but here its elements are another datasets. therefore, we need to transform these datasets to tensors, so we will another transformation, using **flat_map** transformation along with the [**batch**](https://www.tensorflow.org/api_docs/python/tf/data/Dataset#batch) method."
      ]
    },
    {
      "cell_type": "code",
      "metadata": {
        "id": "SGB-XH05mor9"
      },
      "source": [
        "InputSequenceSize=4"
      ],
      "execution_count": null,
      "outputs": []
    },
    {
      "cell_type": "code",
      "metadata": {
        "id": "vopauYDZptxs"
      },
      "source": [
        "def Creat_Traning_Data():\n",
        "\n",
        "    df=FlatData.window(InputSequenceSize+1,shift=1,\n",
        "                           stride=1, drop_remainder=True,) # return a dataset containing windows.\n",
        "\n",
        "    # dataset's element after using window method.\n",
        "    OWin = [win for win in df.take(2)]\n",
        "    msg = \"dataset's element after using window method:\\n\"\n",
        "    print(msg,'\\n',OWin,'\\n')\n",
        "\n",
        "\n",
        "\n",
        "    df=df.flat_map(lambda window: window.batch(InputSequenceSize+1))\n",
        "\n",
        "    # dataset's element after using flat_map along with batch method.\n",
        "    OWin = [[elm.decode('utf-8') for elm in win.numpy()] for win in df.take(3)]\n",
        "    msg = \"dataset's element after using flat_map along with batch method:\\n\"\n",
        "    print(msg,'\\n',OWin,'\\n')\n",
        "\n",
        "    return df\n"
      ],
      "execution_count": null,
      "outputs": []
    },
    {
      "cell_type": "code",
      "metadata": {
        "colab": {
          "base_uri": "https://localhost:8080/"
        },
        "id": "MOWbWewF35bb",
        "outputId": "f199dd3f-c578-4fd2-8949-51f6f1f39e63"
      },
      "source": [
        "WinData= Creat_Traning_Data()"
      ],
      "execution_count": null,
      "outputs": [
        {
          "output_type": "stream",
          "text": [
            "dataset's element after using window method:\n",
            " \n",
            " [<_VariantDataset shapes: (), types: tf.string>, <_VariantDataset shapes: (), types: tf.string>] \n",
            "\n",
            "dataset's element after using flat_map along with batch method:\n",
            " \n",
            " [['\\ufeff', 'دفتر', 'ایزد', 'دانا', 'صانع'], ['دفتر', 'ایزد', 'دانا', 'صانع', 'پروردگار'], ['ایزد', 'دانا', 'صانع', 'پروردگار', 'حی']] \n",
            "\n"
          ],
          "name": "stdout"
        }
      ]
    },
    {
      "cell_type": "markdown",
      "metadata": {
        "id": "S8_3XNc-OhE_"
      },
      "source": [
        "### Split tokens\n",
        "\n",
        "Now, because each element in dataset is a tensor, we can split itinto input sequences ($X$) and output words ($Y$).\n",
        "\n",
        "Hence, we will first consider the first four elements of each window and then reverse them and finally return them as input sequences."
      ]
    },
    {
      "cell_type": "code",
      "metadata": {
        "id": "MJSTDBKXOTgQ"
      },
      "source": [
        "def Data_Pairs():\n",
        "\n",
        "    df=WinData.map(lambda window: (window[InputSequenceSize-1::-1], window[:InputSequenceSize-1:-1]))\n",
        "    X_df = df.map(lambda x,y: x)\n",
        "    Y_df =df.map(lambda x,y: y)\n",
        "\n",
        "    #Show some training pairs\n",
        "    XSam =[[elm.decode('utf-8') for elm in win.numpy()] for win in X_df.take(5)]\n",
        "\n",
        "    # XSam = list(map(lambda X: X[::-1],XSam))\n",
        "    YSam=[win.numpy()[0].decode('utf-8') for win in Y_df.take(5)]\n",
        "\n",
        "    # input sequences and them labels.\n",
        "    msg ='Some input sequences and them labels:\\n'\n",
        "    print(msg)\n",
        "    for ind,win in enumerate(XSam):\n",
        "        print(win,YSam[ind])\n",
        "\n",
        "    return (X_df, Y_df)"
      ],
      "execution_count": null,
      "outputs": []
    },
    {
      "cell_type": "code",
      "metadata": {
        "colab": {
          "base_uri": "https://localhost:8080/"
        },
        "id": "Si4v-Mq1Qtgi",
        "outputId": "3b546959-5fa5-480e-b076-9c884aad2cfc"
      },
      "source": [
        "(RXtrain , RYtrain) =Data_Pairs()"
      ],
      "execution_count": null,
      "outputs": [
        {
          "output_type": "stream",
          "text": [
            "Some input sequences and them labels:\n",
            "\n",
            "['دانا', 'ایزد', 'دفتر', '\\ufeff'] صانع\n",
            "['صانع', 'دانا', 'ایزد', 'دفتر'] پروردگار\n",
            "['پروردگار', 'صانع', 'دانا', 'ایزد'] حی\n",
            "['حی', 'پروردگار', 'صانع', 'دانا'] توانا\n",
            "['توانا', 'حی', 'پروردگار', 'صانع'] اکبر\n"
          ],
          "name": "stdout"
        }
      ]
    },
    {
      "cell_type": "markdown",
      "metadata": {
        "id": "LVEjczpBmwzF"
      },
      "source": [
        "### Reshape Input Data\n",
        "\n",
        "As it is clear from the results of the last cell, the input data to the model is a vector of strings but we need to convert it to a string vector so as to vectorize it properly. therefore, we first write the function **Covert_string**, which creates a string by the older element of its input. then, we will apply this trasformation on each tensor in dataset using **map** and [**tf.py_function**](https://www.tensorflow.org/api_docs/python/tf/py_function)."
      ]
    },
    {
      "cell_type": "code",
      "metadata": {
        "id": "wGANtrdom5ik"
      },
      "source": [
        "# Covert a vector of strins to a string vector\n",
        "def convert_string(X: tf.Tensor):\n",
        "  str1 = \"\"\n",
        "  for ele in X:\n",
        "      if (ele.numpy().decode(\"utf-8\") not in StopWords):\n",
        "          str1 += ele.numpy().decode(\"utf-8\")+\" \"\n",
        "  str1= tf.convert_to_tensor(str1[:-1])\n",
        "  return str1"
      ],
      "execution_count": null,
      "outputs": []
    },
    {
      "cell_type": "code",
      "metadata": {
        "id": "BV3G0pKDuzjZ"
      },
      "source": [
        "def Vstrings_stringVector():\n",
        "\n",
        "\n",
        "    df=RXtrain.map(lambda x: tf.py_function(func=convert_string,\n",
        "                                               inp=[x], Tout=tf.string))\n",
        "\n",
        "    '''\n",
        "    after converting sequences to string vectors, the shape of sequences\n",
        "    becomes unknown. therefore, we need to set their shapes.\n",
        "    '''\n",
        "\n",
        "    df = df.map(lambda x: tf.reshape(x,[1]))\n",
        "\n",
        "    #After converting to string vectors:\n",
        "    SV=[[Inw.numpy()[0].decode('utf-8')] for Inw in df.take(3)]\n",
        "    msg ='After converting to string vectors:\\n'\n",
        "    print(msg)\n",
        "    print(SV)\n",
        "\n",
        "    return df"
      ],
      "execution_count": null,
      "outputs": []
    },
    {
      "cell_type": "code",
      "metadata": {
        "id": "Rasj44bR0bL0",
        "colab": {
          "base_uri": "https://localhost:8080/"
        },
        "outputId": "cdbac66d-55fe-45c3-d9c1-be6b4e1fac72"
      },
      "source": [
        "VRXtrain = Vstrings_stringVector()"
      ],
      "execution_count": null,
      "outputs": [
        {
          "output_type": "stream",
          "text": [
            "After converting to string vectors:\n",
            "\n",
            "[['دانا ایزد دفتر \\ufeff'], ['صانع دانا ایزد دفتر'], ['پروردگار صانع دانا ایزد']]\n"
          ],
          "name": "stdout"
        }
      ]
    },
    {
      "cell_type": "markdown",
      "metadata": {
        "id": "s4sO6_iO5C_n"
      },
      "source": [
        "## Preprocessing the text\n",
        "\n",
        "We need to process these datasets before feeding them to the model. Here, we will use the\n",
        "[keras preprocessing layer \"*TextVectorization*\"](https://www.tensorflow.org/api_docs/python/tf/keras/layers/experimental/preprocessing/TextVectorization)."
      ]
    },
    {
      "cell_type": "markdown",
      "metadata": {
        "id": "LEzhnzoYzeb0"
      },
      "source": [
        "## What are the preprocessing steps?\n",
        "\n",
        "The processing of each sample contains the following steps:\n",
        "\n",
        "* **standardize** each sample (usually lowercasing + punctuation stripping):\n",
        "\n",
        "    in order for we will create a **custom standardization function** to strip un-wanted chars and symbols.\n",
        "\n",
        "* **split** each sample into substrings (usually words).\n",
        "\n",
        "\n",
        "* **recombine** substrings into tokens (usually ngrams):\n",
        "  We will leave it as 1 ngram (word)\n",
        "\n",
        "* **index tokens** (associate a unique int value with each token)\n",
        "\n",
        "* **transform** each sample using this index, either into a vector of ints or a dense float vector."
      ]
    },
    {
      "cell_type": "markdown",
      "metadata": {
        "id": "EcppZFyt3T5j"
      },
      "source": [
        "### Prepare custom standardization and split functions\n",
        "\n",
        "as you have seen, in the beginning, we removed **Stop words** and **punctuations**. Fore doing more, we wrote the **custom_standardization** function so that we will be able to do more preprocessing such as HTML tags stripping."
      ]
    },
    {
      "cell_type": "code",
      "metadata": {
        "id": "3DuYTOQS5CTP"
      },
      "source": [
        "def custom_standardization(input_data):\n",
        "    stripped_html = tf.strings.regex_replace(input_data, \"<br />\", \" \")\n",
        "    stripped_num  = tf.strings.regex_replace(stripped_html, \"[\\d-]\", \" \")\n",
        "    return stripped_num"
      ],
      "execution_count": null,
      "outputs": []
    },
    {
      "cell_type": "markdown",
      "metadata": {
        "id": "4hm7Wghc8oRY"
      },
      "source": [
        "## Creat the text vectoriztion layer"
      ]
    },
    {
      "cell_type": "markdown",
      "metadata": {
        "id": "kpz3e5Qv9Uk-"
      },
      "source": [
        "Initializing the Vectorization layer.\n",
        "\n",
        "\n",
        "*   **Max Feactures:** Number of distinct words in the vocabulary.\n",
        "*   **Sequence Length:** Input sequence size, which is equal to length $X$.\n",
        "*   **Batch Size:**  the number of training examples utilized in one iteration.\n",
        "\n"
      ]
    },
    {
      "cell_type": "code",
      "metadata": {
        "id": "627WFcQcCfRr"
      },
      "source": [
        "max_features=Num_dis_words; sequence_length=InputSequenceSize; batch_size=32;"
      ],
      "execution_count": null,
      "outputs": []
    },
    {
      "cell_type": "code",
      "metadata": {
        "id": "dKcwqUvfCYNq"
      },
      "source": [
        "vectorize_layer = TextVectorization(\n",
        "    standardize=custom_standardization,\n",
        "    max_tokens=max_features,\n",
        "    # split --> DEFAULT: split each sample into substrings (usually words)\n",
        "    output_mode=\"int\",\n",
        "    output_sequence_length=sequence_length,\n",
        "    )"
      ],
      "execution_count": null,
      "outputs": []
    },
    {
      "cell_type": "markdown",
      "metadata": {
        "id": "QEQBHmHM_lIt"
      },
      "source": [
        "The Vectorization layer has been already created in the last cell, now we can apply it to the data set to create a dictionary, in other words for the creation of indexes."
      ]
    },
    {
      "cell_type": "code",
      "metadata": {
        "id": "l-C2z4tACb54"
      },
      "source": [
        "vectorize_layer.adapt(VRXtrain.batch(batch_size))"
      ],
      "execution_count": null,
      "outputs": []
    },
    {
      "cell_type": "code",
      "metadata": {
        "id": "B54m3VkHAWZ4",
        "colab": {
          "base_uri": "https://localhost:8080/"
        },
        "outputId": "e26a2e2c-c003-4037-edee-4d6c0ff51f32"
      },
      "source": [
        "#Show number of vocabulary and some entry\n",
        "\n",
        "msg= 'The number of distinct words are {}'.format(len(vectorize_layer.get_vocabulary()))\n",
        "\n",
        "print(msg)\n",
        "\n",
        "msg= 'Some Vocabulary in our Dictionary: '\n",
        "print('\\n',msg, vectorize_layer.get_vocabulary()[:10] )"
      ],
      "execution_count": null,
      "outputs": [
        {
          "output_type": "stream",
          "text": [
            "The number of distinct words are 3837\n",
            "\n",
            " Some Vocabulary in our Dictionary:  ['', '[UNK]', 'دوست', 'این', 'دل', 'یار', 'عشق', 'سعدی', 'دست', 'چشم']\n"
          ],
          "name": "stdout"
        }
      ]
    },
    {
      "cell_type": "markdown",
      "metadata": {
        "id": "W4xb264lCewG"
      },
      "source": [
        "Now that our layer learned how to convert words into integers by creating them indexes, we can apply the **text vectorization layer** to the input sequences and their labels. to do so, we need a helper function to convert a given raw text to a Tensor by using this layer."
      ]
    },
    {
      "cell_type": "code",
      "metadata": {
        "id": "9FBhk1drGpwL"
      },
      "source": [
        "def vectorize_text(text):\n",
        "  text = tf.expand_dims(text, -1)\n",
        "  return tf.squeeze(vectorize_layer(text))"
      ],
      "execution_count": null,
      "outputs": []
    },
    {
      "cell_type": "markdown",
      "metadata": {
        "id": "hKJnY6HQEXkN"
      },
      "source": [
        "<h3> Apply the <b>Text Vectorization </b> onto $X$ and $Y$. </h3>"
      ]
    },
    {
      "cell_type": "code",
      "metadata": {
        "id": "lak8HUm2EWVG"
      },
      "source": [
        "X_train = VRXtrain.map(vectorize_text)\n",
        "Y_train = RYtrain.map(vectorize_text)\n",
        "\n",
        "## fix the shape of labels, reshaping (10,) to (1,) vector\n",
        "\n",
        "Y_train=Y_train.map(lambda x: x[:1])"
      ],
      "execution_count": null,
      "outputs": []
    },
    {
      "cell_type": "markdown",
      "metadata": {
        "id": "qhWLhJj4E5Ue"
      },
      "source": [
        "#### show some example input sequences and compare them after and before applying the **text vectorization layer**."
      ]
    },
    {
      "cell_type": "code",
      "metadata": {
        "id": "RxSU3b9qGzpi",
        "colab": {
          "base_uri": "https://localhost:8080/"
        },
        "outputId": "ed466034-2a7e-4545-8f75-7e04424b8949"
      },
      "source": [
        "# Before using text vectorization layer\n",
        "\n",
        "msg ='Input sequences before using text vectorization layer:'\n",
        "print(msg)\n",
        "for elem in VRXtrain.take(3):\n",
        "  print(\"X: \",elem.numpy()[0].decode('utf-8'))\n",
        "\n",
        "print()\n",
        "msg = 'Input sequences after using text vectorization layer:'\n",
        "print(msg)\n",
        "for elem in X_train.take(3):\n",
        "  print(\"X: \",elem.numpy())\n",
        "\n",
        "  ## Showe some pairs of traing data\n",
        "\n",
        "print()\n",
        "msg= 'Input pairs:\\n'\n",
        "print(msg)\n",
        "\n",
        "for (X,Y) in zip(X_train.take(5), Y_train.take(5)):\n",
        "  print('X:',X.numpy(),\"--> \", 'Y:' ,Y.numpy())"
      ],
      "execution_count": null,
      "outputs": [
        {
          "output_type": "stream",
          "text": [
            "Input sequences before using text vectorization layer:\n",
            "X:  دانا ایزد دفتر ﻿\n",
            "X:  صانع دانا ایزد دفتر\n",
            "X:  پروردگار صانع دانا ایزد\n",
            "\n",
            "Input sequences after using text vectorization layer:\n",
            "X:  [ 541  891  224 3836]\n",
            "X:  [1572  541  891  224]\n",
            "X:  [ 883 1572  541  891]\n",
            "\n",
            "Input pairs:\n",
            "\n",
            "X: [ 541  891  224 3836] -->  Y: [1572]\n",
            "X: [1572  541  891  224] -->  Y: [883]\n",
            "X: [ 883 1572  541  891] -->  Y: [1575]\n",
            "X: [1575  883 1572  541] -->  Y: [1578]\n",
            "X: [1578 1575  883 1572] -->  Y: [691]\n"
          ],
          "name": "stdout"
        }
      ]
    },
    {
      "cell_type": "markdown",
      "metadata": {
        "id": "D-g96jW0Y1up"
      },
      "source": [
        "#### Finalize the data pipline\n",
        "\n",
        "to do so, we will finalize the pipeline by joining  X  and  Y, using the zipper method. for more information about using the zip method, you check the [W3Schools](https://www.w3schools.com/python/ref_func_zip.asp) website. Notice that after applying the zip method, the shape of input sequences becomes unknown. therefore we first will write a fraction so as to fix their shape and then apply it to the date set after joining  X  and  Y."
      ]
    },
    {
      "cell_type": "code",
      "metadata": {
        "id": "xuChpxtkISMM"
      },
      "source": [
        "def _fixup_shape(X, y):\n",
        "    X.set_shape([InputSequenceSize])\n",
        "    y.set_shape([1])\n",
        "    return X, y"
      ],
      "execution_count": null,
      "outputs": []
    },
    {
      "cell_type": "code",
      "metadata": {
        "id": "4puuXoIub78d"
      },
      "source": [
        "def Join_Function():\n",
        "   train_ds =  tf.data.Dataset.zip((X_train,Y_train))\n",
        "\n",
        "   msg = 'the shape after applying the zip method.'\n",
        "   print(msg)\n",
        "   print(train_ds.element_spec)\n",
        "   print()\n",
        "\n",
        "   train_ds = train_ds.map(_fixup_shape)\n",
        "\n",
        "   msg = 'the shape after applying the _fixup_shape function.'\n",
        "   print(msg)\n",
        "   print(train_ds.element_spec)\n",
        "   print()\n",
        "\n",
        "   ## show some elements.\n",
        "\n",
        "   msg='Some pairs:'\n",
        "   print(msg)\n",
        "   for elm in train_ds.take(5):\n",
        "       print(elm)\n",
        "\n",
        "   return train_ds\n"
      ],
      "execution_count": null,
      "outputs": []
    },
    {
      "cell_type": "code",
      "metadata": {
        "id": "0A6kPJymdkbO",
        "colab": {
          "base_uri": "https://localhost:8080/"
        },
        "outputId": "78d66545-daeb-448b-e2f9-7284f18d3c29"
      },
      "source": [
        "TrainData = Join_Function()"
      ],
      "execution_count": null,
      "outputs": [
        {
          "output_type": "stream",
          "text": [
            "the shape after applying the zip method.\n",
            "(TensorSpec(shape=<unknown>, dtype=tf.int64, name=None), TensorSpec(shape=<unknown>, dtype=tf.int64, name=None))\n",
            "\n",
            "the shape after applying the _fixup_shape function.\n",
            "(TensorSpec(shape=(4,), dtype=tf.int64, name=None), TensorSpec(shape=(1,), dtype=tf.int64, name=None))\n",
            "\n",
            "Some pairs:\n",
            "(<tf.Tensor: shape=(4,), dtype=int64, numpy=array([ 541,  891,  224, 3836])>, <tf.Tensor: shape=(1,), dtype=int64, numpy=array([1572])>)\n",
            "(<tf.Tensor: shape=(4,), dtype=int64, numpy=array([1572,  541,  891,  224])>, <tf.Tensor: shape=(1,), dtype=int64, numpy=array([883])>)\n",
            "(<tf.Tensor: shape=(4,), dtype=int64, numpy=array([ 883, 1572,  541,  891])>, <tf.Tensor: shape=(1,), dtype=int64, numpy=array([1575])>)\n",
            "(<tf.Tensor: shape=(4,), dtype=int64, numpy=array([1575,  883, 1572,  541])>, <tf.Tensor: shape=(1,), dtype=int64, numpy=array([1578])>)\n",
            "(<tf.Tensor: shape=(4,), dtype=int64, numpy=array([1578, 1575,  883, 1572])>, <tf.Tensor: shape=(1,), dtype=int64, numpy=array([691])>)\n"
          ],
          "name": "stdout"
        }
      ]
    },
    {
      "cell_type": "markdown",
      "metadata": {
        "id": "EbKQkTsLmyR0"
      },
      "source": [
        "#### Creat Training, Test and validation sets"
      ]
    },
    {
      "cell_type": "code",
      "metadata": {
        "id": "91QcZ-YGm93U"
      },
      "source": [
        "def DataSplit(df,size=0.01):\n",
        "\n",
        "    ##CarData=len(list(df.take(-1)))\n",
        "    TSize = 1000\n",
        "    #np.floor(size*CarData)+1;\n",
        "\n",
        "    df=df.shuffle(1000)\n",
        "    TestData = df.take(TSize)\n",
        "    Train_Data=df.skip(TSize)\n",
        "\n",
        "    return (Train_Data,TestData)\n"
      ],
      "execution_count": null,
      "outputs": []
    },
    {
      "cell_type": "code",
      "metadata": {
        "id": "iZOOvnlDhmNa"
      },
      "source": [
        "def Dulicate_Data(df,copy=2):\n",
        "\n",
        "    for i in range(copy):\n",
        "        df=df.shuffle(1000)\n",
        "        Dupdf=df.take(1000)\n",
        "        df=df.concatenate(Dupdf)\n",
        "\n",
        "    return df"
      ],
      "execution_count": null,
      "outputs": []
    },
    {
      "cell_type": "code",
      "metadata": {
        "id": "YMVvHP_XiVzS"
      },
      "source": [],
      "execution_count": null,
      "outputs": []
    },
    {
      "cell_type": "code",
      "metadata": {
        "id": "U8OKDJZgyDDN"
      },
      "source": [
        "#Train_Data,TestData = DataSplit(TrainData)\n",
        "TrainSet,ValData = DataSplit(TrainData)\n",
        "\n",
        "\n",
        "# Duplicate the dataset\n",
        "\n",
        "TrainSet = Dulicate_Data(TrainSet)"
      ],
      "execution_count": null,
      "outputs": []
    },
    {
      "cell_type": "markdown",
      "metadata": {
        "id": "X_CoIOjjg599"
      },
      "source": [
        "## Optimize the pipline\n",
        "\n",
        "As discussed in [Better performance with the tf.data API](https://www.tensorflow.org/guide/data_performance), there are several ways to increase the performance of input data pipelines in tf.data.\n",
        "\n",
        "By increasing the performance of the input pipeline, we can decrease the overall train and test processing time.\n",
        "\n",
        "The general strategy to overlap the input pipeline steps (reading file paths, uploading and processing image data, filtering lable info, converting them to image data and label tuples, etc.)  with batch computation during train or test phase.\n",
        "\n",
        "Here, I summarize the most related methods very shortly:\n",
        "* **Prefetching**:\n",
        "Prefetching overlaps the preprocessing and model execution of a training step.\n",
        "* **Caching**:\n",
        "The `tf.data.Dataset.cache` transformation can cache a dataset, either ***in memory or on local storage***. This will save some operations (like **file opening and data reading**) from being executed during each epoch.\n",
        "* **Batching**: Combines consecutive elements of this dataset into batches."
      ]
    },
    {
      "cell_type": "code",
      "metadata": {
        "id": "JcAg2iybIsXk"
      },
      "source": [
        "AUTOTUNE = tf.data.AUTOTUNE\n",
        "Batch_Train = TrainSet.shuffle(buffer_size=512).batch(batch_size, drop_remainder=True).cache().prefetch(buffer_size=AUTOTUNE)\n",
        "Batch_Val = ValData.shuffle(buffer_size=512).batch(batch_size, drop_remainder=True).cache().prefetch(buffer_size=AUTOTUNE)"
      ],
      "execution_count": null,
      "outputs": []
    },
    {
      "cell_type": "markdown",
      "metadata": {
        "id": "C_D9aXQqilf0"
      },
      "source": [
        "#### the shape of the data set after the pipline opimization"
      ]
    },
    {
      "cell_type": "code",
      "metadata": {
        "id": "_IMNuHbRIxJL",
        "colab": {
          "base_uri": "https://localhost:8080/"
        },
        "outputId": "3441b289-27e1-49ad-a926-fba88140bcd4"
      },
      "source": [
        "msg = 'The shape of the data set after the pipeline optimization.'\n",
        "\n",
        "print(msg)\n",
        "print('X:',Batch_Train.element_spec[0])\n",
        "print('Y:',Batch_Train.element_spec[1])\n"
      ],
      "execution_count": null,
      "outputs": [
        {
          "output_type": "stream",
          "text": [
            "The shape of the data set after the pipeline optimization.\n",
            "X: TensorSpec(shape=(32, 4), dtype=tf.int64, name=None)\n",
            "Y: TensorSpec(shape=(32, 1), dtype=tf.int64, name=None)\n"
          ],
          "name": "stdout"
        }
      ]
    },
    {
      "cell_type": "code",
      "metadata": {
        "id": "mAirYMEKBfBq",
        "colab": {
          "base_uri": "https://localhost:8080/"
        },
        "outputId": "0dc56fde-c996-4049-9b33-f8d182f98fe5"
      },
      "source": [
        "print('X:',Batch_Val.element_spec[0])"
      ],
      "execution_count": null,
      "outputs": [
        {
          "output_type": "stream",
          "text": [
            "X: TensorSpec(shape=(32, 4), dtype=tf.int64, name=None)\n"
          ],
          "name": "stdout"
        }
      ]
    },
    {
      "cell_type": "code",
      "metadata": {
        "id": "rq6uBBpq5Cci"
      },
      "source": [
        "## Create Model"
      ],
      "execution_count": null,
      "outputs": []
    },
    {
      "cell_type": "code",
      "metadata": {
        "id": "2DURXCGLJcFD"
      },
      "source": [
        "embedding_dim = 8             # Embedding layer output dimension"
      ],
      "execution_count": null,
      "outputs": []
    },
    {
      "cell_type": "code",
      "metadata": {
        "id": "cufdH8BG5KtO"
      },
      "source": [
        "def TG_LSTM():\n",
        "    input = Input(shape=InputSequenceSize,name='input_layer')\n",
        "\n",
        "    ############################ Embeding Layer  ###############################\n",
        "    '''' Next, we add a layer to map those vocab indices into a space of\n",
        "    dimensionality embedding_dim.'''\n",
        "\n",
        "    Em = Embedding(max_features, embedding_dim,\n",
        "                  embeddings_initializer=keras.initializers.GlorotNormal(),\n",
        "                   name='Embedding_1')(input)\n",
        "\n",
        "    Drop1 =Dropout(0.1,name='Drop_1')(Em)\n",
        "\n",
        "\n",
        "    ############################## LSTM Layers  #################################\n",
        "    lstm1 = LSTM(32, return_sequences=True,\n",
        "                kernel_initializer=keras.initializers.GlorotNormal(),\n",
        "                recurrent_initializer=keras.initializers.GlorotNormal(),\n",
        "                dropout=0.5,recurrent_regularizer=keras.regularizers.l1(),\n",
        "                kernel_regularizer=keras.regularizers.L2(),\n",
        "                name='LSTM_1')(Drop1)\n",
        "\n",
        "    lstm2 = LSTM(32, return_sequences=True,\n",
        "                 kernel_initializer=keras.initializers.GlorotNormal(),\n",
        "                 recurrent_initializer=keras.initializers.GlorotNormal(),\n",
        "                 recurrent_regularizer=keras.regularizers.l1(),\n",
        "                 kernel_regularizer=keras.regularizers.L1L2(),\n",
        "                 dropout=0.5,\n",
        "                 name='LSTM_2')(lstm1)\n",
        "\n",
        "\n",
        "    lstm3 = LSTM(32, return_sequences=True,\n",
        "                 kernel_initializer=keras.initializers.GlorotNormal(),\n",
        "                 recurrent_initializer=keras.initializers.GlorotNormal(),\n",
        "                 recurrent_regularizer=keras.regularizers.l1(),\n",
        "                 kernel_regularizer=keras.regularizers.L1L2(),\n",
        "                 dropout=0.2,\n",
        "                 name='LSTM_3')(lstm2)\n",
        "\n",
        "    ##########################Fully Conected Layers #############################\n",
        "    Falt1 = Flatten(name='Flat1')(lstm3)\n",
        "    # Drop2=Dropout(0.2,name='Drop_2')(Falt1)\n",
        "    # BN1=BatchNormalization(name='BN1')(Falt1)\n",
        "\n",
        "    # Dense1 =Dense(32,\n",
        "    #               name='Dense1')(BN1)\n",
        "\n",
        "    # BN2 = BatchNormalization(name='BN_2')(Dense1)\n",
        "\n",
        "    # Act1 = Activation('relu',name='Act1')(BN2)\n",
        "\n",
        "    # Dense2 =Dense(32,activation='relu',\n",
        "    #               name='Dense2')(Act1)\n",
        "\n",
        "    # BN3 = BatchNormalization(name='BN_3')(Dense2)\n",
        "\n",
        "    # Act2 = Activation('relu',name='Act2')(BN3)\n",
        "\n",
        "    # Dense3 =Dense(64,activation='relu',\n",
        "    #               name='Dense3')(Act2)\n",
        "\n",
        "    # Drop3=Dropout(0.2,name='Drop_3')(Dense1)\n",
        "    OutPut =Dense(max_features,activation='softmax',name='Dense4')(Falt1)\n",
        "\n",
        "\n",
        "    #############################       Model       #############################\n",
        "    model = Model(inputs=input,outputs=OutPut)\n",
        "\n",
        "\n",
        "\n",
        "    return model"
      ],
      "execution_count": null,
      "outputs": []
    },
    {
      "cell_type": "code",
      "metadata": {
        "id": "0C3TXURj_6fD",
        "colab": {
          "base_uri": "https://localhost:8080/",
          "height": 865
        },
        "outputId": "10d4d253-82dc-42d6-e5bf-4d3360055d72"
      },
      "source": [
        "model= TG_LSTM()\n",
        "plot_model(model,show_shapes=True,show_layer_names=True,to_file='TG_LSTM.png')"
      ],
      "execution_count": null,
      "outputs": [
        {
          "output_type": "execute_result",
          "data": {
            "image/png": "[encoded data removed]",
            "text/plain": [
              "<IPython.core.display.Image object>"
            ]
          },
          "metadata": {
            "tags": []
          },
          "execution_count": 43
        }
      ]
    },
    {
      "cell_type": "code",
      "metadata": {
        "id": "-foGMtNXR_GC",
        "colab": {
          "base_uri": "https://localhost:8080/"
        },
        "outputId": "f85c0f81-2bcf-46a5-a14a-c66e9c14e249"
      },
      "source": [
        "#@title Model Summary\n",
        "\n",
        "print(model.summary())"
      ],
      "execution_count": null,
      "outputs": [
        {
          "output_type": "stream",
          "text": [
            "Model: \"model\"\n",
            "_________________________________________________________________\n",
            "Layer (type)                 Output Shape              Param #   \n",
            "=================================================================\n",
            "input_layer (InputLayer)     [(None, 4)]               0         \n",
            "_________________________________________________________________\n",
            "Embedding_1 (Embedding)      (None, 4, 8)              30696     \n",
            "_________________________________________________________________\n",
            "Drop_1 (Dropout)             (None, 4, 8)              0         \n",
            "_________________________________________________________________\n",
            "LSTM_1 (LSTM)                (None, 4, 32)             5248      \n",
            "_________________________________________________________________\n",
            "LSTM_2 (LSTM)                (None, 4, 32)             8320      \n",
            "_________________________________________________________________\n",
            "LSTM_3 (LSTM)                (None, 4, 32)             8320      \n",
            "_________________________________________________________________\n",
            "Flat1 (Flatten)              (None, 128)               0         \n",
            "_________________________________________________________________\n",
            "Dense4 (Dense)               (None, 3837)              494973    \n",
            "=================================================================\n",
            "Total params: 547,557\n",
            "Trainable params: 547,557\n",
            "Non-trainable params: 0\n",
            "_________________________________________________________________\n",
            "None\n"
          ],
          "name": "stdout"
        }
      ]
    },
    {
      "cell_type": "code",
      "metadata": {
        "id": "Fi8sSLalAbUq",
        "colab": {
          "base_uri": "https://localhost:8080/"
        },
        "outputId": "18367f65-6f35-48ce-b7c5-573ff9a2982d"
      },
      "source": [
        "\n",
        "rms= RMSprop(learning_rate=0.0001,rho=0.9,momentum=0.95)\n",
        "model.compile(loss='sparse_categorical_crossentropy',optimizer=rms,\n",
        "            metrics=[\n",
        "                    'accuracy',\n",
        "            ])\n",
        "history = model.fit(Batch_Train,\n",
        "                    epochs=100, validation_data=Batch_Val\n",
        "                    )"
      ],
      "execution_count": null,
      "outputs": [
        {
          "output_type": "stream",
          "text": [
            "Epoch 1/100\n",
            "8370/8370 [==============================] - 958s 112ms/step - loss: 8.0026 - accuracy: 0.0156 - val_loss: 7.6021 - val_accuracy: 0.0121\n",
            "Epoch 2/100\n",
            "8370/8370 [==============================] - 118s 14ms/step - loss: 7.3241 - accuracy: 0.0164 - val_loss: 7.3858 - val_accuracy: 0.0121\n",
            "Epoch 3/100\n",
            "8370/8370 [==============================] - 120s 14ms/step - loss: 7.1745 - accuracy: 0.0193 - val_loss: 7.2056 - val_accuracy: 0.0141\n",
            "Epoch 4/100\n",
            "8370/8370 [==============================] - 119s 14ms/step - loss: 7.0332 - accuracy: 0.0232 - val_loss: 7.0472 - val_accuracy: 0.0222\n",
            "Epoch 5/100\n",
            "8370/8370 [==============================] - 119s 14ms/step - loss: 6.9151 - accuracy: 0.0263 - val_loss: 6.9310 - val_accuracy: 0.0262\n",
            "Epoch 6/100\n",
            "8370/8370 [==============================] - 119s 14ms/step - loss: 6.8813 - accuracy: 0.0282 - val_loss: 6.8676 - val_accuracy: 0.0333\n",
            "Epoch 7/100\n",
            "8370/8370 [==============================] - 120s 14ms/step - loss: 6.7796 - accuracy: 0.0314 - val_loss: 6.7889 - val_accuracy: 0.0363\n",
            "Epoch 8/100\n",
            "8370/8370 [==============================] - 119s 14ms/step - loss: 6.7312 - accuracy: 0.0341 - val_loss: 6.7132 - val_accuracy: 0.0403\n",
            "Epoch 9/100\n",
            "8370/8370 [==============================] - 121s 15ms/step - loss: 6.6857 - accuracy: 0.0371 - val_loss: 6.7312 - val_accuracy: 0.0343\n",
            "Epoch 10/100\n",
            "8370/8370 [==============================] - 121s 14ms/step - loss: 6.6576 - accuracy: 0.0385 - val_loss: 6.6831 - val_accuracy: 0.0423\n",
            "Epoch 11/100\n",
            "8370/8370 [==============================] - 121s 14ms/step - loss: 6.6330 - accuracy: 0.0405 - val_loss: 6.6047 - val_accuracy: 0.0423\n",
            "Epoch 12/100\n",
            "8370/8370 [==============================] - 123s 15ms/step - loss: 6.6208 - accuracy: 0.0420 - val_loss: 6.5650 - val_accuracy: 0.0444\n",
            "Epoch 13/100\n",
            "8370/8370 [==============================] - 122s 15ms/step - loss: 6.5957 - accuracy: 0.0423 - val_loss: 6.5398 - val_accuracy: 0.0423\n",
            "Epoch 14/100\n",
            "8370/8370 [==============================] - 122s 15ms/step - loss: 6.5701 - accuracy: 0.0453 - val_loss: 6.5378 - val_accuracy: 0.0565\n",
            "Epoch 15/100\n",
            "8370/8370 [==============================] - 122s 15ms/step - loss: 6.5915 - accuracy: 0.0465 - val_loss: 6.6648 - val_accuracy: 0.0383\n",
            "Epoch 16/100\n",
            "8370/8370 [==============================] - 120s 14ms/step - loss: 6.5880 - accuracy: 0.0481 - val_loss: 6.4512 - val_accuracy: 0.0544\n",
            "Epoch 17/100\n",
            "8370/8370 [==============================] - 120s 14ms/step - loss: 6.5733 - accuracy: 0.0486 - val_loss: 6.4978 - val_accuracy: 0.0615\n",
            "Epoch 18/100\n",
            "8370/8370 [==============================] - 120s 14ms/step - loss: 6.5613 - accuracy: 0.0496 - val_loss: 6.4767 - val_accuracy: 0.0554\n",
            "Epoch 19/100\n",
            "8370/8370 [==============================] - 121s 14ms/step - loss: 6.5549 - accuracy: 0.0507 - val_loss: 6.4426 - val_accuracy: 0.0524\n",
            "Epoch 20/100\n",
            "8370/8370 [==============================] - 121s 14ms/step - loss: 6.5500 - accuracy: 0.0509 - val_loss: 6.4615 - val_accuracy: 0.0565\n",
            "Epoch 21/100\n",
            "8370/8370 [==============================] - 120s 14ms/step - loss: 6.5603 - accuracy: 0.0523 - val_loss: 6.4223 - val_accuracy: 0.0534\n",
            "Epoch 22/100\n",
            "8370/8370 [==============================] - 122s 15ms/step - loss: 6.5634 - accuracy: 0.0532 - val_loss: 6.5105 - val_accuracy: 0.0605\n",
            "Epoch 23/100\n",
            "8370/8370 [==============================] - 121s 14ms/step - loss: 6.5634 - accuracy: 0.0545 - val_loss: 6.5103 - val_accuracy: 0.0595\n",
            "Epoch 24/100\n",
            "8370/8370 [==============================] - 122s 15ms/step - loss: 6.5703 - accuracy: 0.0532 - val_loss: 6.4476 - val_accuracy: 0.0524\n",
            "Epoch 25/100\n",
            "8370/8370 [==============================] - 120s 14ms/step - loss: 6.5956 - accuracy: 0.0530 - val_loss: 6.4364 - val_accuracy: 0.0554\n",
            "Epoch 26/100\n",
            "8370/8370 [==============================] - 120s 14ms/step - loss: 6.6296 - accuracy: 0.0544 - val_loss: 6.5122 - val_accuracy: 0.0534\n",
            "Epoch 27/100\n",
            "8370/8370 [==============================] - 121s 14ms/step - loss: 6.6695 - accuracy: 0.0537 - val_loss: 6.5819 - val_accuracy: 0.0585\n",
            "Epoch 28/100\n",
            "8370/8370 [==============================] - 122s 15ms/step - loss: 6.6870 - accuracy: 0.0557 - val_loss: 6.4668 - val_accuracy: 0.0625\n",
            "Epoch 29/100\n",
            "8370/8370 [==============================] - 121s 14ms/step - loss: 6.6991 - accuracy: 0.0567 - val_loss: 6.6472 - val_accuracy: 0.0514\n",
            "Epoch 30/100\n",
            "8370/8370 [==============================] - 121s 14ms/step - loss: 6.7286 - accuracy: 0.0562 - val_loss: 6.5537 - val_accuracy: 0.0645\n",
            "Epoch 31/100\n",
            "8370/8370 [==============================] - 121s 14ms/step - loss: 6.7413 - accuracy: 0.0569 - val_loss: 6.5473 - val_accuracy: 0.0595\n",
            "Epoch 32/100\n",
            "8370/8370 [==============================] - 121s 14ms/step - loss: 6.7476 - accuracy: 0.0570 - val_loss: 6.5271 - val_accuracy: 0.0665\n",
            "Epoch 33/100\n",
            "8370/8370 [==============================] - 122s 15ms/step - loss: 6.7396 - accuracy: 0.0573 - val_loss: 6.6823 - val_accuracy: 0.0585\n",
            "Epoch 34/100\n",
            "8370/8370 [==============================] - 122s 15ms/step - loss: 6.7399 - accuracy: 0.0576 - val_loss: 6.6887 - val_accuracy: 0.0454\n",
            "Epoch 35/100\n",
            "8370/8370 [==============================] - 123s 15ms/step - loss: 6.7361 - accuracy: 0.0589 - val_loss: 6.5058 - val_accuracy: 0.0464\n",
            "Epoch 36/100\n",
            "8370/8370 [==============================] - 123s 15ms/step - loss: 6.7167 - accuracy: 0.0597 - val_loss: 6.4516 - val_accuracy: 0.0756\n",
            "Epoch 37/100\n",
            "8370/8370 [==============================] - 123s 15ms/step - loss: 6.7119 - accuracy: 0.0602 - val_loss: 6.5267 - val_accuracy: 0.0615\n",
            "Epoch 38/100\n",
            "8370/8370 [==============================] - 124s 15ms/step - loss: 6.7165 - accuracy: 0.0620 - val_loss: 6.7647 - val_accuracy: 0.0514\n",
            "Epoch 39/100\n",
            "8370/8370 [==============================] - 123s 15ms/step - loss: 6.7145 - accuracy: 0.0615 - val_loss: 6.5268 - val_accuracy: 0.0484\n",
            "Epoch 40/100\n",
            "8370/8370 [==============================] - 124s 15ms/step - loss: 6.7129 - accuracy: 0.0617 - val_loss: 6.6264 - val_accuracy: 0.0474\n",
            "Epoch 41/100\n",
            "8370/8370 [==============================] - 125s 15ms/step - loss: 6.7312 - accuracy: 0.0628 - val_loss: 6.5746 - val_accuracy: 0.0585\n",
            "Epoch 42/100\n",
            "8370/8370 [==============================] - 124s 15ms/step - loss: 6.7296 - accuracy: 0.0613 - val_loss: 6.5708 - val_accuracy: 0.0685\n",
            "Epoch 43/100\n",
            "8370/8370 [==============================] - 123s 15ms/step - loss: 6.7522 - accuracy: 0.0606 - val_loss: 6.5904 - val_accuracy: 0.0696\n",
            "Epoch 44/100\n",
            "8370/8370 [==============================] - 124s 15ms/step - loss: 6.7607 - accuracy: 0.0606 - val_loss: 6.4905 - val_accuracy: 0.0675\n",
            "Epoch 45/100\n",
            "8370/8370 [==============================] - 124s 15ms/step - loss: 6.7569 - accuracy: 0.0618 - val_loss: 6.6996 - val_accuracy: 0.0524\n",
            "Epoch 46/100\n",
            "8370/8370 [==============================] - 124s 15ms/step - loss: 6.7260 - accuracy: 0.0636 - val_loss: 6.5597 - val_accuracy: 0.0696\n",
            "Epoch 47/100\n",
            "8370/8370 [==============================] - 126s 15ms/step - loss: 6.7043 - accuracy: 0.0655 - val_loss: 6.4585 - val_accuracy: 0.0645\n",
            "Epoch 48/100\n",
            "8370/8370 [==============================] - 130s 16ms/step - loss: 6.7097 - accuracy: 0.0646 - val_loss: 6.7090 - val_accuracy: 0.0615\n",
            "Epoch 49/100\n",
            "8370/8370 [==============================] - 126s 15ms/step - loss: 6.7049 - accuracy: 0.0651 - val_loss: 6.5707 - val_accuracy: 0.0756\n",
            "Epoch 50/100\n",
            "8370/8370 [==============================] - 126s 15ms/step - loss: 6.7099 - accuracy: 0.0674 - val_loss: 6.5271 - val_accuracy: 0.0575\n",
            "Epoch 51/100\n",
            "8370/8370 [==============================] - 123s 15ms/step - loss: 6.6983 - accuracy: 0.0663 - val_loss: 6.4562 - val_accuracy: 0.0716\n",
            "Epoch 52/100\n",
            "8370/8370 [==============================] - 125s 15ms/step - loss: 6.7104 - accuracy: 0.0662 - val_loss: 6.4662 - val_accuracy: 0.0766\n",
            "Epoch 53/100\n",
            "8370/8370 [==============================] - 123s 15ms/step - loss: 6.7144 - accuracy: 0.0675 - val_loss: 6.4360 - val_accuracy: 0.0726\n",
            "Epoch 54/100\n",
            "8370/8370 [==============================] - 123s 15ms/step - loss: 6.7367 - accuracy: 0.0679 - val_loss: 6.5202 - val_accuracy: 0.0716\n",
            "Epoch 55/100\n",
            "8370/8370 [==============================] - 122s 15ms/step - loss: 6.7341 - accuracy: 0.0681 - val_loss: 6.4195 - val_accuracy: 0.0847\n",
            "Epoch 56/100\n",
            "8370/8370 [==============================] - 124s 15ms/step - loss: 6.7295 - accuracy: 0.0676 - val_loss: 6.5644 - val_accuracy: 0.0706\n",
            "Epoch 57/100\n",
            "8370/8370 [==============================] - 124s 15ms/step - loss: 6.7415 - accuracy: 0.0667 - val_loss: 6.4258 - val_accuracy: 0.0726\n",
            "Epoch 58/100\n",
            "8370/8370 [==============================] - 125s 15ms/step - loss: 6.7355 - accuracy: 0.0691 - val_loss: 6.4644 - val_accuracy: 0.0514\n",
            "Epoch 59/100\n",
            "8370/8370 [==============================] - 127s 15ms/step - loss: 6.7229 - accuracy: 0.0694 - val_loss: 6.6012 - val_accuracy: 0.0675\n",
            "Epoch 60/100\n",
            "8370/8370 [==============================] - 130s 16ms/step - loss: 6.7057 - accuracy: 0.0704 - val_loss: 6.6379 - val_accuracy: 0.0605\n",
            "Epoch 61/100\n",
            "8370/8370 [==============================] - 128s 15ms/step - loss: 6.7156 - accuracy: 0.0699 - val_loss: 6.6635 - val_accuracy: 0.0897\n",
            "Epoch 62/100\n",
            "8370/8370 [==============================] - 128s 15ms/step - loss: 6.7313 - accuracy: 0.0716 - val_loss: 6.5498 - val_accuracy: 0.0827\n",
            "Epoch 63/100\n",
            "8370/8370 [==============================] - 127s 15ms/step - loss: 6.7280 - accuracy: 0.0707 - val_loss: 6.5197 - val_accuracy: 0.0776\n",
            "Epoch 64/100\n",
            "8370/8370 [==============================] - 124s 15ms/step - loss: 6.7349 - accuracy: 0.0704 - val_loss: 6.3761 - val_accuracy: 0.0786\n",
            "Epoch 65/100\n",
            "8370/8370 [==============================] - 124s 15ms/step - loss: 6.7425 - accuracy: 0.0714 - val_loss: 6.5921 - val_accuracy: 0.0877\n",
            "Epoch 66/100\n",
            "8370/8370 [==============================] - 123s 15ms/step - loss: 6.7409 - accuracy: 0.0712 - val_loss: 6.4782 - val_accuracy: 0.0917\n",
            "Epoch 67/100\n",
            "8370/8370 [==============================] - 123s 15ms/step - loss: 6.7481 - accuracy: 0.0708 - val_loss: 6.4611 - val_accuracy: 0.0827\n",
            "Epoch 68/100\n",
            "8370/8370 [==============================] - 125s 15ms/step - loss: 6.7621 - accuracy: 0.0703 - val_loss: 6.7700 - val_accuracy: 0.0837\n",
            "Epoch 69/100\n",
            "8370/8370 [==============================] - 123s 15ms/step - loss: 6.7693 - accuracy: 0.0706 - val_loss: 6.6368 - val_accuracy: 0.0786\n",
            "Epoch 70/100\n",
            "8370/8370 [==============================] - 124s 15ms/step - loss: 6.7709 - accuracy: 0.0710 - val_loss: 6.5726 - val_accuracy: 0.1028\n",
            "Epoch 71/100\n",
            "8370/8370 [==============================] - 127s 15ms/step - loss: 6.7759 - accuracy: 0.0722 - val_loss: 6.6843 - val_accuracy: 0.0897\n",
            "Epoch 72/100\n",
            "8370/8370 [==============================] - 125s 15ms/step - loss: 6.7984 - accuracy: 0.0709 - val_loss: 6.9664 - val_accuracy: 0.1038\n",
            "Epoch 73/100\n",
            "8370/8370 [==============================] - 125s 15ms/step - loss: 6.7972 - accuracy: 0.0708 - val_loss: 6.7508 - val_accuracy: 0.0978\n",
            "Epoch 74/100\n",
            "8370/8370 [==============================] - 124s 15ms/step - loss: 6.7957 - accuracy: 0.0714 - val_loss: 6.7838 - val_accuracy: 0.0786\n",
            "Epoch 75/100\n",
            "8370/8370 [==============================] - 124s 15ms/step - loss: 6.8292 - accuracy: 0.0700 - val_loss: 6.6843 - val_accuracy: 0.0978\n",
            "Epoch 76/100\n",
            "8370/8370 [==============================] - 125s 15ms/step - loss: 6.8189 - accuracy: 0.0697 - val_loss: 6.8153 - val_accuracy: 0.0877\n",
            "Epoch 77/100\n",
            "8370/8370 [==============================] - 126s 15ms/step - loss: 6.8304 - accuracy: 0.0705 - val_loss: 6.8911 - val_accuracy: 0.0776\n",
            "Epoch 78/100\n",
            "8370/8370 [==============================] - 124s 15ms/step - loss: 6.8446 - accuracy: 0.0681 - val_loss: 6.9944 - val_accuracy: 0.0927\n",
            "Epoch 79/100\n",
            "8370/8370 [==============================] - 123s 15ms/step - loss: 6.8354 - accuracy: 0.0698 - val_loss: 6.7088 - val_accuracy: 0.0766\n",
            "Epoch 80/100\n",
            "8370/8370 [==============================] - 127s 15ms/step - loss: 6.8311 - accuracy: 0.0693 - val_loss: 6.5713 - val_accuracy: 0.0968\n",
            "Epoch 81/100\n",
            "8370/8370 [==============================] - 129s 15ms/step - loss: 6.8536 - accuracy: 0.0691 - val_loss: 6.6473 - val_accuracy: 0.0927\n",
            "Epoch 82/100\n",
            "8370/8370 [==============================] - 127s 15ms/step - loss: 6.8446 - accuracy: 0.0692 - val_loss: 6.6143 - val_accuracy: 0.0968\n",
            "Epoch 83/100\n",
            "8370/8370 [==============================] - 127s 15ms/step - loss: 6.8427 - accuracy: 0.0684 - val_loss: 6.7354 - val_accuracy: 0.0968\n",
            "Epoch 84/100\n",
            "8370/8370 [==============================] - 127s 15ms/step - loss: 6.8650 - accuracy: 0.0671 - val_loss: 6.6572 - val_accuracy: 0.0917\n",
            "Epoch 85/100\n",
            "8370/8370 [==============================] - 125s 15ms/step - loss: 6.8626 - accuracy: 0.0686 - val_loss: 6.7150 - val_accuracy: 0.0897\n",
            "Epoch 86/100\n",
            "8370/8370 [==============================] - 125s 15ms/step - loss: 6.8544 - accuracy: 0.0689 - val_loss: 6.6705 - val_accuracy: 0.0716\n",
            "Epoch 87/100\n",
            "8370/8370 [==============================] - 123s 15ms/step - loss: 6.8353 - accuracy: 0.0692 - val_loss: 6.5115 - val_accuracy: 0.0867\n",
            "Epoch 88/100\n",
            "8370/8370 [==============================] - 124s 15ms/step - loss: 6.8414 - accuracy: 0.0688 - val_loss: 6.7525 - val_accuracy: 0.0817\n",
            "Epoch 89/100\n",
            "8370/8370 [==============================] - 123s 15ms/step - loss: 6.8441 - accuracy: 0.0675 - val_loss: 6.6437 - val_accuracy: 0.0726\n",
            "Epoch 90/100\n",
            "8370/8370 [==============================] - 122s 15ms/step - loss: 6.8513 - accuracy: 0.0682 - val_loss: 6.5848 - val_accuracy: 0.0796\n",
            "Epoch 91/100\n",
            "8370/8370 [==============================] - 124s 15ms/step - loss: 6.8444 - accuracy: 0.0686 - val_loss: 6.6278 - val_accuracy: 0.0786\n",
            "Epoch 92/100\n",
            "8370/8370 [==============================] - 123s 15ms/step - loss: 6.8500 - accuracy: 0.0703 - val_loss: 6.5942 - val_accuracy: 0.0766\n",
            "Epoch 93/100\n",
            "8370/8370 [==============================] - 123s 15ms/step - loss: 6.8583 - accuracy: 0.0695 - val_loss: 6.4801 - val_accuracy: 0.0938\n",
            "Epoch 94/100\n",
            "8370/8370 [==============================] - 126s 15ms/step - loss: 6.8609 - accuracy: 0.0689 - val_loss: 6.5844 - val_accuracy: 0.0766\n",
            "Epoch 95/100\n",
            "8370/8370 [==============================] - 125s 15ms/step - loss: 6.8803 - accuracy: 0.0689 - val_loss: 6.5755 - val_accuracy: 0.0726\n",
            "Epoch 96/100\n",
            "8370/8370 [==============================] - 124s 15ms/step - loss: 6.8737 - accuracy: 0.0695 - val_loss: 6.5657 - val_accuracy: 0.0837\n",
            "Epoch 97/100\n",
            "8370/8370 [==============================] - 125s 15ms/step - loss: 6.8745 - accuracy: 0.0689 - val_loss: 6.5414 - val_accuracy: 0.0827\n",
            "Epoch 98/100\n",
            "8370/8370 [==============================] - 125s 15ms/step - loss: 6.8754 - accuracy: 0.0688 - val_loss: 6.7188 - val_accuracy: 0.0766\n",
            "Epoch 99/100\n",
            "8370/8370 [==============================] - 125s 15ms/step - loss: 6.8764 - accuracy: 0.0695 - val_loss: 6.6230 - val_accuracy: 0.0817\n",
            "Epoch 100/100\n",
            "8370/8370 [==============================] - 125s 15ms/step - loss: 6.8781 - accuracy: 0.0710 - val_loss: 6.8341 - val_accuracy: 0.0645\n"
          ],
          "name": "stdout"
        }
      ]
    },
    {
      "cell_type": "code",
      "metadata": {
        "id": "ZfjYrUywh4ta"
      },
      "source": [],
      "execution_count": null,
      "outputs": []
    },
    {
      "cell_type": "markdown",
      "metadata": {
        "id": "7NHGV_89QJcY"
      },
      "source": [
        "## Plot Loss and Accuracy graph"
      ]
    },
    {
      "cell_type": "code",
      "metadata": {
        "id": "F-oseynHL-WA"
      },
      "source": [
        "def plot_metrics(metric_name,title,ymin=0,ylim=5):\n",
        "\n",
        "    plt.title(title)\n",
        "    #plt.ylim(ymin,ylim)\n",
        "    plt.plot(history.history[metric_name],color='blue', label=metric_name)\n",
        "    plt.plot(history.history['val_'+metric_name],color='green',label='val_'+metric_name)\n",
        "    plt.show()\n"
      ],
      "execution_count": null,
      "outputs": []
    },
    {
      "cell_type": "code",
      "metadata": {
        "id": "G1WpstPfvtb-",
        "colab": {
          "base_uri": "https://localhost:8080/",
          "height": 545
        },
        "outputId": "7a9a8ba3-d4b0-4ece-ac8a-1c5de0470a34"
      },
      "source": [
        "plot_metrics(metric_name='loss',title='Loss',ylim=1)\n",
        "plot_metrics(metric_name='accuracy',title='Accuracy',ymin=0.003,ylim=0.012)"
      ],
      "execution_count": null,
      "outputs": [
        {
          "output_type": "display_data",
          "data": {
            "image/png": "[encoded data removed]",
            "text/plain": [
              "<Figure size 432x288 with 1 Axes>"
            ]
          },
          "metadata": {
            "tags": [],
            "needs_background": "light"
          }
        },
        {
          "output_type": "display_data",
          "data": {
            "image/png": "[encoded data removed]",
            "text/plain": [
              "<Figure size 432x288 with 1 Axes>"
            ]
          },
          "metadata": {
            "tags": [],
            "needs_background": "light"
          }
        }
      ]
    },
    {
      "cell_type": "code",
      "metadata": {
        "id": "IQfFdXggQGMw",
        "colab": {
          "base_uri": "https://localhost:8080/"
        },
        "outputId": "cdec4e66-93a6-48a2-cb03-33ea506b5163"
      },
      "source": [
        "model.save(\"model_LSTM\")"
      ],
      "execution_count": null,
      "outputs": [
        {
          "output_type": "stream",
          "text": [
            "WARNING:absl:Found untraced functions such as lstm_cell_layer_call_fn, lstm_cell_layer_call_and_return_conditional_losses, lstm_cell_1_layer_call_fn, lstm_cell_1_layer_call_and_return_conditional_losses, lstm_cell_2_layer_call_fn while saving (showing 5 of 15). These functions will not be directly callable after loading.\n",
            "WARNING:absl:Found untraced functions such as lstm_cell_layer_call_fn, lstm_cell_layer_call_and_return_conditional_losses, lstm_cell_1_layer_call_fn, lstm_cell_1_layer_call_and_return_conditional_losses, lstm_cell_2_layer_call_fn while saving (showing 5 of 15). These functions will not be directly callable after loading.\n"
          ],
          "name": "stderr"
        },
        {
          "output_type": "stream",
          "text": [
            "INFO:tensorflow:Assets written to: model_LSTM/assets\n"
          ],
          "name": "stdout"
        },
        {
          "output_type": "stream",
          "text": [
            "INFO:tensorflow:Assets written to: model_LSTM/assets\n"
          ],
          "name": "stderr"
        }
      ]
    },
    {
      "cell_type": "code",
      "metadata": {
        "id": "kMZ7x--rQTXX"
      },
      "source": [
        "model_LSTM = tf.keras.models.load_model('model_LSTM')"
      ],
      "execution_count": null,
      "outputs": []
    },
    {
      "cell_type": "code",
      "metadata": {
        "id": "pmDc_Iw-QYqG",
        "colab": {
          "base_uri": "https://localhost:8080/"
        },
        "outputId": "11926541-851b-45ca-a64b-564e963c6398"
      },
      "source": [
        "vectorize_text('باد')"
      ],
      "execution_count": null,
      "outputs": [
        {
          "output_type": "execute_result",
          "data": {
            "text/plain": [
              "<tf.Tensor: shape=(4,), dtype=int64, numpy=array([1, 0, 0, 0])>"
            ]
          },
          "metadata": {
            "tags": []
          },
          "execution_count": 52
        }
      ]
    },
    {
      "cell_type": "code",
      "metadata": {
        "id": "AwDGFxGeQ2RQ"
      },
      "source": [
        "def sample(preds, temperature=0.2):\n",
        "    # helper function to sample an index from a probability array\n",
        "    preds=np.squeeze(preds)\n",
        "\n",
        "    preds = np.asarray(preds).astype(\"float64\")\n",
        "    preds = np.log(preds) / temperature\n",
        "    exp_preds = np.exp(preds)\n",
        "    preds = exp_preds / np.sum(exp_preds)\n",
        "\n",
        "    probas = np.random.multinomial(1, preds, 1)\n",
        "    return np.argmax(probas)"
      ],
      "execution_count": null,
      "outputs": []
    },
    {
      "cell_type": "code",
      "metadata": {
        "id": "dZxBO30dQ6x3"
      },
      "source": [
        "def generate_text(model, seed_original, step):\n",
        "    seed= vectorize_text(seed_original)\n",
        "    decode_sentence(seed.numpy().squeeze())\n",
        "    for diversity in np.arange(0.2,2.6,0.2):\n",
        "        print(\"...Diversity:\", diversity)\n",
        "        seed= vectorize_text(seed_original).numpy().reshape(1,-1)\n",
        "\n",
        "\n",
        "        generated = (seed)\n",
        "        for i in range(step):\n",
        "            #print(seed.shape)\n",
        "            predictions=model.predict(seed)\n",
        "            pred_max= np.argmax(predictions.squeeze())\n",
        "            #print(\"pred_max: \", pred_max)\n",
        "            next_index = sample(predictions, diversity)\n",
        "            #print(\"next_index: \", next_index)\n",
        "            generated = np.append(generated, next_index)\n",
        "            seed= generated[-sequence_length:].reshape(1,sequence_length)\n",
        "        decode_sentence(generated)\n",
        "\n",
        "\n"
      ],
      "execution_count": null,
      "outputs": []
    },
    {
      "cell_type": "code",
      "metadata": {
        "id": "F3AuJh_PRAqi"
      },
      "source": [
        "def decode_sentence (encoded_sentence):\n",
        "  deceoded_sentence=[]\n",
        "\n",
        "  SenLen = len(encoded_sentence)\n",
        "  encoded_sentence = encoded_sentence[SenLen::-1]\n",
        "  for word in encoded_sentence:\n",
        "\n",
        "    deceoded_sentence.append(vectorize_layer.get_vocabulary()[word])\n",
        "  sentence= ' '.join(deceoded_sentence)\n",
        "\n",
        "\n",
        "  print(sentence)\n",
        "  return sentence\n"
      ],
      "execution_count": null,
      "outputs": []
    },
    {
      "cell_type": "code",
      "metadata": {
        "id": "liq6EPI3RHlX",
        "colab": {
          "base_uri": "https://localhost:8080/"
        },
        "outputId": "69b0b593-2d01-4492-c676-c1fc905ac6f5"
      },
      "source": [
        "generate_text(model_LSTM,\n",
        "              'صبا',\n",
        "              10 )"
      ],
      "execution_count": null,
      "outputs": [
        {
          "output_type": "stream",
          "text": [
            "   صبا\n",
            "...Diversity: 0.2\n",
            "کآفت این تیغ زنهارت صنع رفتهٔ پیرامن وفا این وصل    صبا\n",
            "...Diversity: 0.4\n",
            "سعدی دوست تربیتست مراد برآرد بردارم عود رویت این وصل    صبا\n",
            "...Diversity: 0.6000000000000001\n",
            "دوست باغ جای نرگس نمی‌گویی سعدیا دوست این چشم بتا    صبا\n",
            "...Diversity: 0.8\n",
            "تناور تقصیر شب گفتم مستور غمش چالاکترست شیرین پای نهاده‌ایم    صبا\n",
            "...Diversity: 1.0\n",
            "بوی کنم حسنی خواهم بخش شکیب عشق این جان بگذشت    صبا\n",
            "...Diversity: 1.2\n",
            "بیزاری معشوق دهان چشم طاعت ضلال ببینم جنت دوستان ناتوان    صبا\n",
            "...Diversity: 1.4000000000000001\n",
            "فرامش دست دست سعدی زلف عدمند جور جنت باری نمی‌خواهم    صبا\n",
            "...Diversity: 1.6\n",
            "غم نمی‌پردازم حدیث خواب دوست بدوز یاران می‌دهد قامت طناز    صبا\n",
            "...Diversity: 1.8\n",
            "عذرت ساحل جان صبحم خرامان سکونم گلاله ناپدیدست دشمنان ساقی    صبا\n",
            "...Diversity: 2.0\n",
            "همی‌برد بداند معنی عشقت دردا سیراب مویی می‌کنم عهد بخست    صبا\n",
            "...Diversity: 2.2\n",
            "جهان آرزوی بنان آسوده دیوانگیم نمی‌سوزد دشمنم زان دست خارت    صبا\n",
            "...Diversity: 2.4000000000000004\n",
            "سروقد ممتاز حذر چوگان قمر کنند سایبان منه خردمند بیاور    صبا\n"
          ],
          "name": "stdout"
        }
      ]
    },
    {
      "cell_type": "markdown",
      "metadata": {
        "id": "dLctLHh-_2F5"
      },
      "source": [
        "## Here there are the refences that I have used in this assignment.\n",
        "\n",
        "\n",
        "[Illustrated Guide to LSTM’s](https://towardsdatascience.com/illustrated-guide-to-lstms-and-gru-s-a-step-by-step-explanation-44e9eb85bf21)\n",
        "\n",
        "[Machine Learning mastery](https://machinelearningmastery.com/text-generation-lstm-recurrent-neural-networks-python-keras/)"
      ]
    }
  ]
}